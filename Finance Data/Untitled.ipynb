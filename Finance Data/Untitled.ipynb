{
 "cells": [
  {
   "cell_type": "markdown",
   "id": "1aab150f-1afb-4da3-968d-aa708e2d54e7",
   "metadata": {},
   "source": [
    "# Portfolio recommendation"
   ]
  },
  {
   "cell_type": "code",
   "execution_count": 1,
   "id": "f0f0d860-2ec5-4b2f-a6bb-e17c76df536a",
   "metadata": {},
   "outputs": [
    {
     "name": "stdout",
     "output_type": "stream",
     "text": [
      "                 Stock_A       Stock_B       Stock_C       Stock_D\n",
      "2021-01-01  1.049671e+02  1.209903e+02  8.649643e+01  9.046096e+01\n",
      "2021-01-02  1.035158e+04  1.377711e+04  8.399636e+03  8.656940e+03\n",
      "2021-01-03  1.102204e+06  1.390034e+06  7.068429e+05  8.477912e+05\n",
      "2021-01-04  1.270073e+08  1.255144e+08  6.633068e+07  9.278095e+07\n",
      "2021-01-05  1.240334e+10  1.386600e+10  4.120973e+09  9.536282e+09\n"
     ]
    },
    {
     "name": "stderr",
     "output_type": "stream",
     "text": [
      "C:\\Users\\diptiwar\\AppData\\Local\\Temp\\ipykernel_19352\\583696485.py:8: RuntimeWarning: overflow encountered in accumulate\n",
      "  'Stock_A': np.random.normal(100, 10, 1000).cumprod(),\n",
      "C:\\Users\\diptiwar\\AppData\\Local\\Temp\\ipykernel_19352\\583696485.py:9: RuntimeWarning: overflow encountered in accumulate\n",
      "  'Stock_B': np.random.normal(100, 15, 1000).cumprod(),\n",
      "C:\\Users\\diptiwar\\AppData\\Local\\Temp\\ipykernel_19352\\583696485.py:10: RuntimeWarning: overflow encountered in accumulate\n",
      "  'Stock_C': np.random.normal(100, 20, 1000).cumprod(),\n",
      "C:\\Users\\diptiwar\\AppData\\Local\\Temp\\ipykernel_19352\\583696485.py:11: RuntimeWarning: overflow encountered in accumulate\n",
      "  'Stock_D': np.random.normal(100, 5, 1000).cumprod()\n"
     ]
    }
   ],
   "source": [
    "import numpy as np\n",
    "import pandas as pd\n",
    "\n",
    "# Generate synthetic stock price data\n",
    "np.random.seed(42)\n",
    "dates = pd.date_range('2021-01-01', periods=1000)\n",
    "stock_prices = pd.DataFrame({\n",
    "    'Stock_A': np.random.normal(100, 10, 1000).cumprod(),\n",
    "    'Stock_B': np.random.normal(100, 15, 1000).cumprod(),\n",
    "    'Stock_C': np.random.normal(100, 20, 1000).cumprod(),\n",
    "    'Stock_D': np.random.normal(100, 5, 1000).cumprod()\n",
    "}, index=dates)\n",
    "\n",
    "print(stock_prices.head())\n"
   ]
  },
  {
   "cell_type": "code",
   "execution_count": 5,
   "id": "4817b928-0d39-4343-8c00-f7e86d809dc5",
   "metadata": {},
   "outputs": [
    {
     "name": "stdout",
     "output_type": "stream",
     "text": [
      "Iteration:      1,   Func. Count:      6,   Neg. LLF: 1646413471.7725172\n",
      "Iteration:      2,   Func. Count:     15,   Neg. LLF: 4609397.826754228\n",
      "Iteration:      3,   Func. Count:     21,   Neg. LLF: -18.756067577815163\n",
      "Iteration:      4,   Func. Count:     26,   Neg. LLF: -15.849826629057782\n",
      "Iteration:      5,   Func. Count:     38,   Neg. LLF: 6991288.85198286\n",
      "Iteration:      6,   Func. Count:     52,   Neg. LLF: 68165.47297552094\n",
      "Iteration:      7,   Func. Count:     67,   Neg. LLF: 16291306.955013836\n",
      "Iteration:      8,   Func. Count:     82,   Neg. LLF: 311770.16179259826\n",
      "Iteration:      9,   Func. Count:     92,   Neg. LLF: 9623081872311.678\n",
      "Iteration:     10,   Func. Count:    107,   Neg. LLF: -9.512795016922173\n",
      "Iteration:     11,   Func. Count:    114,   Neg. LLF: 12526482.31778598\n",
      "Iteration:     12,   Func. Count:    128,   Neg. LLF: 396575.15191174234\n",
      "Iteration:     13,   Func. Count:    140,   Neg. LLF: 46264.91909984403\n",
      "Iteration:     14,   Func. Count:    151,   Neg. LLF: 4501.59993849101\n",
      "Iteration:     15,   Func. Count:    163,   Neg. LLF: 164.3400938641058\n",
      "Iteration:     16,   Func. Count:    173,   Neg. LLF: 73599.81559289934\n",
      "Iteration:     17,   Func. Count:    183,   Neg. LLF: -24.267970838406175\n",
      "Optimization terminated successfully    (Exit mode 0)\n",
      "            Current function value: -24.267971258055997\n",
      "            Iterations: 21\n",
      "            Function evaluations: 183\n",
      "            Gradient evaluations: 17\n",
      "ARIMA Forecast Returns: 2021-06-04    97.938515\n",
      "2021-06-05    98.186460\n",
      "2021-06-06    98.168294\n",
      "2021-06-07    98.169625\n",
      "2021-06-08    98.169527\n",
      "2021-06-09    98.169534\n",
      "2021-06-10    98.169534\n",
      "2021-06-11    98.169534\n",
      "2021-06-12    98.169534\n",
      "2021-06-13    98.169534\n",
      "Freq: D, Name: predicted_mean, dtype: float64\n",
      "GARCH Forecast Volatility: h.01    0.000014\n",
      "h.02    0.000019\n",
      "h.03    0.000024\n",
      "h.04    0.000027\n",
      "h.05    0.000029\n",
      "h.06    0.000031\n",
      "h.07    0.000032\n",
      "h.08    0.000033\n",
      "h.09    0.000034\n",
      "h.10    0.000034\n",
      "Name: 2021-06-13 00:00:00, dtype: float64\n"
     ]
    },
    {
     "name": "stderr",
     "output_type": "stream",
     "text": [
      "C:\\Users\\diptiwar\\AppData\\Roaming\\Python\\Python311\\site-packages\\arch\\univariate\\base.py:311: DataScaleWarning: y is poorly scaled, which may affect convergence of the optimizer when\n",
      "estimating the model parameters. The scale of y is 0.004902. Parameter\n",
      "estimation work better when this value is between 1 and 1000. The recommended\n",
      "rescaling is 10 * y.\n",
      "\n",
      "This warning can be disabled by either rescaling y before initializing the\n",
      "model or by setting rescale=False.\n",
      "\n",
      "  warnings.warn(\n"
     ]
    }
   ],
   "source": [
    "#Modeling and Forecasting\n",
    "from statsmodels.tsa.arima.model import ARIMA\n",
    "from arch import arch_model\n",
    "\n",
    "# Calculate returns\n",
    "returns = stock_prices.pct_change().dropna()\n",
    "\n",
    "# Forecast returns using ARIMA\n",
    "model_arima = ARIMA(returns['Stock_A'], order=(1,1,1))\n",
    "fit_arima = model_arima.fit()\n",
    "forecast_arima = fit_arima.forecast(steps=10)\n",
    "\n",
    "# Forecast volatility using GARCH\n",
    "model_garch = arch_model(forecast_arima, vol='Garch', p=1, q=1)\n",
    "fit_garch = model_garch.fit()\n",
    "forecast_garch = fit_garch.forecast(horizon=10)\n",
    "\n",
    "print(\"ARIMA Forecast Returns:\", forecast_arima)\n",
    "print(\"GARCH Forecast Volatility:\", forecast_garch.variance.iloc[-1])\n"
   ]
  },
  {
   "cell_type": "code",
   "execution_count": 18,
   "id": "5ba8a973-ea79-428a-9b05-ac0ad3b53a64",
   "metadata": {},
   "outputs": [
    {
     "name": "stderr",
     "output_type": "stream",
     "text": [
      "[*********************100%%**********************]  4 of 4 completed"
     ]
    },
    {
     "name": "stdout",
     "output_type": "stream",
     "text": [
      "Ticker          AAPL      AMZN     GOOGL      MSFT\n",
      "Date                                              \n",
      "2021-01-05  0.012364  0.010004  0.008064  0.000965\n",
      "2021-01-06 -0.033661 -0.024897 -0.009868 -0.025929\n",
      "2021-01-07  0.034123  0.007577  0.029869  0.028457\n",
      "2021-01-08  0.008631  0.006496  0.013239  0.006093\n",
      "2021-01-11 -0.023249 -0.021519 -0.023106 -0.009699\n"
     ]
    },
    {
     "name": "stderr",
     "output_type": "stream",
     "text": [
      "\n"
     ]
    }
   ],
   "source": [
    "import numpy as np\n",
    "import pandas as pd\n",
    "import yfinance as yf\n",
    "\n",
    "# Download historical price data for 4 stocks\n",
    "tickers = ['AAPL', 'MSFT', 'GOOGL', 'AMZN']\n",
    "data = yf.download(tickers, start='2021-01-01', end='2023-01-01')['Adj Close']\n",
    "\n",
    "# Calculate daily returns\n",
    "returns = data.pct_change().dropna()\n",
    "\n",
    "print(returns.head())\n"
   ]
  },
  {
   "cell_type": "code",
   "execution_count": 19,
   "id": "2d2df72a-e961-4c7b-a51b-f33cf094f90a",
   "metadata": {},
   "outputs": [
    {
     "name": "stderr",
     "output_type": "stream",
     "text": [
      "C:\\Users\\diptiwar\\AppData\\Roaming\\Python\\Python311\\site-packages\\arch\\univariate\\base.py:311: DataScaleWarning: y is poorly scaled, which may affect convergence of the optimizer when\n",
      "estimating the model parameters. The scale of y is 0.0003769. Parameter\n",
      "estimation work better when this value is between 1 and 1000. The recommended\n",
      "rescaling is 100 * y.\n",
      "\n",
      "This warning can be disabled by either rescaling y before initializing the\n",
      "model or by setting rescale=False.\n",
      "\n",
      "  warnings.warn(\n"
     ]
    },
    {
     "name": "stdout",
     "output_type": "stream",
     "text": [
      "Volatility Forecasts: {'AAPL': array([0.00045653, 0.00045494, 0.00045338, 0.00045185, 0.00045035]), 'MSFT': array([0.00037116, 0.00037044, 0.00036974, 0.00036906, 0.00036839]), 'GOOGL': array([0.00044694, 0.00044633, 0.00044573, 0.00044514, 0.00044456]), 'AMZN': array([0.00051494, 0.00051713, 0.00051928, 0.00052138, 0.00052344])}\n"
     ]
    },
    {
     "name": "stderr",
     "output_type": "stream",
     "text": [
      "C:\\Users\\diptiwar\\AppData\\Roaming\\Python\\Python311\\site-packages\\arch\\univariate\\base.py:311: DataScaleWarning: y is poorly scaled, which may affect convergence of the optimizer when\n",
      "estimating the model parameters. The scale of y is 0.0003354. Parameter\n",
      "estimation work better when this value is between 1 and 1000. The recommended\n",
      "rescaling is 100 * y.\n",
      "\n",
      "This warning can be disabled by either rescaling y before initializing the\n",
      "model or by setting rescale=False.\n",
      "\n",
      "  warnings.warn(\n",
      "C:\\Users\\diptiwar\\AppData\\Roaming\\Python\\Python311\\site-packages\\arch\\univariate\\base.py:311: DataScaleWarning: y is poorly scaled, which may affect convergence of the optimizer when\n",
      "estimating the model parameters. The scale of y is 0.0004157. Parameter\n",
      "estimation work better when this value is between 1 and 1000. The recommended\n",
      "rescaling is 100 * y.\n",
      "\n",
      "This warning can be disabled by either rescaling y before initializing the\n",
      "model or by setting rescale=False.\n",
      "\n",
      "  warnings.warn(\n",
      "C:\\Users\\diptiwar\\AppData\\Roaming\\Python\\Python311\\site-packages\\arch\\univariate\\base.py:311: DataScaleWarning: y is poorly scaled, which may affect convergence of the optimizer when\n",
      "estimating the model parameters. The scale of y is 0.0006114. Parameter\n",
      "estimation work better when this value is between 1 and 1000. The recommended\n",
      "rescaling is 100 * y.\n",
      "\n",
      "This warning can be disabled by either rescaling y before initializing the\n",
      "model or by setting rescale=False.\n",
      "\n",
      "  warnings.warn(\n"
     ]
    }
   ],
   "source": [
    "from arch import arch_model\n",
    "\n",
    "# Function to fit GARCH(1,1) model and forecast volatility\n",
    "def garch_volatility_forecast(returns, horizon=5):\n",
    "    model = arch_model(returns, vol='Garch', p=1, q=1)\n",
    "    model_fit = model.fit(disp='off')\n",
    "    forecast = model_fit.forecast(horizon=horizon)\n",
    "    return forecast.variance.values[-1, :]\n",
    "\n",
    "# Forecast volatility for each stock\n",
    "vol_forecasts = {}\n",
    "for ticker in tickers:\n",
    "    vol_forecasts[ticker] = garch_volatility_forecast(returns[ticker])\n",
    "\n",
    "print(\"Volatility Forecasts:\", vol_forecasts)\n"
   ]
  },
  {
   "cell_type": "code",
   "execution_count": 20,
   "id": "d82894fd-c319-4c22-9787-966431b324e4",
   "metadata": {},
   "outputs": [
    {
     "name": "stdout",
     "output_type": "stream",
     "text": [
      "VaR and CVaR: {'AAPL': (-0.03318978404436427, -0.040847471661977504), 'MSFT': (-0.029351469951767295, -0.04030802750001284), 'GOOGL': (-0.033006954431352334, -0.043965233190519766), 'AMZN': (-0.03698730142215295, -0.05756125998012648)}\n"
     ]
    }
   ],
   "source": [
    "import scipy.stats as stats\n",
    "\n",
    "def calculate_var_cvar(returns, alpha=0.05):\n",
    "    var = np.percentile(returns, alpha * 100)\n",
    "    cvar = returns[returns <= var].mean()\n",
    "    return var, cvar\n",
    "\n",
    "# Calculate VaR and CVaR for each stock\n",
    "var_cvar = {}\n",
    "for ticker in tickers:\n",
    "    var_cvar[ticker] = calculate_var_cvar(returns[ticker])\n",
    "\n",
    "print(\"VaR and CVaR:\", var_cvar)\n"
   ]
  },
  {
   "cell_type": "code",
   "execution_count": 21,
   "id": "68a8c2ef-2f5f-422c-8d80-cb93e429b504",
   "metadata": {},
   "outputs": [
    {
     "ename": "IndexError",
     "evalue": "tuple index out of range",
     "output_type": "error",
     "traceback": [
      "\u001b[1;31m---------------------------------------------------------------------------\u001b[0m",
      "\u001b[1;31mIndexError\u001b[0m                                Traceback (most recent call last)",
      "Cell \u001b[1;32mIn[21], line 15\u001b[0m\n\u001b[0;32m     13\u001b[0m \u001b[38;5;66;03m# Define variables\u001b[39;00m\n\u001b[0;32m     14\u001b[0m weights \u001b[38;5;241m=\u001b[39m cp\u001b[38;5;241m.\u001b[39mVariable(n)\n\u001b[1;32m---> 15\u001b[0m returns_portfolio \u001b[38;5;241m=\u001b[39m \u001b[43mexpected_returns\u001b[49m\u001b[38;5;241;43m.\u001b[39;49m\u001b[43mT\u001b[49m\u001b[43m \u001b[49m\u001b[38;5;241;43m@\u001b[39;49m\u001b[43m \u001b[49m\u001b[43mweights\u001b[49m\n\u001b[0;32m     16\u001b[0m risk_portfolio \u001b[38;5;241m=\u001b[39m cp\u001b[38;5;241m.\u001b[39mquad_form(weights, cov_matrix)\n\u001b[0;32m     18\u001b[0m \u001b[38;5;66;03m# Define problem (maximize Sharpe ratio)\u001b[39;00m\n",
      "File \u001b[1;32mC:\\Program Files\\Python311\\Lib\\site-packages\\pandas\\core\\series.py:3242\u001b[0m, in \u001b[0;36mSeries.__matmul__\u001b[1;34m(self, other)\u001b[0m\n\u001b[0;32m   3238\u001b[0m \u001b[38;5;28;01mdef\u001b[39;00m \u001b[38;5;21m__matmul__\u001b[39m(\u001b[38;5;28mself\u001b[39m, other):\n\u001b[0;32m   3239\u001b[0m \u001b[38;5;250m    \u001b[39m\u001b[38;5;124;03m\"\"\"\u001b[39;00m\n\u001b[0;32m   3240\u001b[0m \u001b[38;5;124;03m    Matrix multiplication using binary `@` operator.\u001b[39;00m\n\u001b[0;32m   3241\u001b[0m \u001b[38;5;124;03m    \"\"\"\u001b[39;00m\n\u001b[1;32m-> 3242\u001b[0m     \u001b[38;5;28;01mreturn\u001b[39;00m \u001b[38;5;28;43mself\u001b[39;49m\u001b[38;5;241;43m.\u001b[39;49m\u001b[43mdot\u001b[49m\u001b[43m(\u001b[49m\u001b[43mother\u001b[49m\u001b[43m)\u001b[49m\n",
      "File \u001b[1;32mC:\\Program Files\\Python311\\Lib\\site-packages\\pandas\\core\\series.py:3222\u001b[0m, in \u001b[0;36mSeries.dot\u001b[1;34m(self, other)\u001b[0m\n\u001b[0;32m   3220\u001b[0m     lvals \u001b[38;5;241m=\u001b[39m \u001b[38;5;28mself\u001b[39m\u001b[38;5;241m.\u001b[39mvalues\n\u001b[0;32m   3221\u001b[0m     rvals \u001b[38;5;241m=\u001b[39m np\u001b[38;5;241m.\u001b[39masarray(other)\n\u001b[1;32m-> 3222\u001b[0m     \u001b[38;5;28;01mif\u001b[39;00m lvals\u001b[38;5;241m.\u001b[39mshape[\u001b[38;5;241m0\u001b[39m] \u001b[38;5;241m!=\u001b[39m \u001b[43mrvals\u001b[49m\u001b[38;5;241;43m.\u001b[39;49m\u001b[43mshape\u001b[49m\u001b[43m[\u001b[49m\u001b[38;5;241;43m0\u001b[39;49m\u001b[43m]\u001b[49m:\n\u001b[0;32m   3223\u001b[0m         \u001b[38;5;28;01mraise\u001b[39;00m \u001b[38;5;167;01mException\u001b[39;00m(\n\u001b[0;32m   3224\u001b[0m             \u001b[38;5;124mf\u001b[39m\u001b[38;5;124m\"\u001b[39m\u001b[38;5;124mDot product shape mismatch, \u001b[39m\u001b[38;5;132;01m{\u001b[39;00mlvals\u001b[38;5;241m.\u001b[39mshape\u001b[38;5;132;01m}\u001b[39;00m\u001b[38;5;124m vs \u001b[39m\u001b[38;5;132;01m{\u001b[39;00mrvals\u001b[38;5;241m.\u001b[39mshape\u001b[38;5;132;01m}\u001b[39;00m\u001b[38;5;124m\"\u001b[39m\n\u001b[0;32m   3225\u001b[0m         )\n\u001b[0;32m   3227\u001b[0m \u001b[38;5;28;01mif\u001b[39;00m \u001b[38;5;28misinstance\u001b[39m(other, ABCDataFrame):\n",
      "\u001b[1;31mIndexError\u001b[0m: tuple index out of range"
     ]
    }
   ],
   "source": [
    "import numpy as np\n",
    "import cvxpy as cp\n",
    "\n",
    "# Expected returns (mean returns)\n",
    "expected_returns = returns.mean()\n",
    "\n",
    "# Covariance matrix\n",
    "cov_matrix = returns.cov()\n",
    "\n",
    "# Number of stocks\n",
    "n = len(tickers)\n",
    "\n",
    "# Define variables\n",
    "weights = cp.Variable(n)\n",
    "returns_portfolio = expected_returns.T @ weights\n",
    "risk_portfolio = cp.quad_form(weights, cov_matrix)\n",
    "\n",
    "# Define problem (maximize Sharpe ratio)\n",
    "risk_free_rate = 0.01\n",
    "objective = cp.Maximize((returns_portfolio - risk_free_rate) / cp.sqrt(risk_portfolio))\n",
    "constraints = [cp.sum(weights) == 1, weights >= 0]\n",
    "problem = cp.Problem(objective, constraints)\n",
    "\n",
    "# Solve the problem\n",
    "problem.solve()\n",
    "optimal_weights = weights.value\n",
    "\n",
    "print(\"Optimal Weights:\", {tickers[i]: optimal_weights[i] for i in range(n)})\n"
   ]
  },
  {
   "cell_type": "code",
   "execution_count": 22,
   "id": "01f299df-4b3f-41d4-9f68-954c64c41c3a",
   "metadata": {},
   "outputs": [
    {
     "data": {
      "text/plain": [
       "Variable((4,), var4)"
      ]
     },
     "execution_count": 22,
     "metadata": {},
     "output_type": "execute_result"
    }
   ],
   "source": [
    "# Define variables\n",
    "import cvxpy as cp\n",
    "weights = cp.Variable(4)\n",
    "weights"
   ]
  },
  {
   "cell_type": "code",
   "execution_count": 16,
   "id": "79adede7-1b42-4062-93f7-be5b6fc37f1a",
   "metadata": {},
   "outputs": [],
   "source": [
    "# Expected returns (mean returns)\n",
    "expected_returns = returns.mean()"
   ]
  },
  {
   "cell_type": "code",
   "execution_count": 17,
   "id": "cce73cfd-e447-481f-ba42-349b1102afb5",
   "metadata": {},
   "outputs": [
    {
     "ename": "IndexError",
     "evalue": "tuple index out of range",
     "output_type": "error",
     "traceback": [
      "\u001b[1;31m---------------------------------------------------------------------------\u001b[0m",
      "\u001b[1;31mIndexError\u001b[0m                                Traceback (most recent call last)",
      "Cell \u001b[1;32mIn[17], line 1\u001b[0m\n\u001b[1;32m----> 1\u001b[0m returns_portfolio \u001b[38;5;241m=\u001b[39m \u001b[43mexpected_returns\u001b[49m\u001b[38;5;241;43m.\u001b[39;49m\u001b[43mT\u001b[49m\u001b[43m \u001b[49m\u001b[38;5;241;43m@\u001b[39;49m\u001b[43m \u001b[49m\u001b[43mweights\u001b[49m\n",
      "File \u001b[1;32mC:\\Program Files\\Python311\\Lib\\site-packages\\pandas\\core\\series.py:3242\u001b[0m, in \u001b[0;36mSeries.__matmul__\u001b[1;34m(self, other)\u001b[0m\n\u001b[0;32m   3238\u001b[0m \u001b[38;5;28;01mdef\u001b[39;00m \u001b[38;5;21m__matmul__\u001b[39m(\u001b[38;5;28mself\u001b[39m, other):\n\u001b[0;32m   3239\u001b[0m \u001b[38;5;250m    \u001b[39m\u001b[38;5;124;03m\"\"\"\u001b[39;00m\n\u001b[0;32m   3240\u001b[0m \u001b[38;5;124;03m    Matrix multiplication using binary `@` operator.\u001b[39;00m\n\u001b[0;32m   3241\u001b[0m \u001b[38;5;124;03m    \"\"\"\u001b[39;00m\n\u001b[1;32m-> 3242\u001b[0m     \u001b[38;5;28;01mreturn\u001b[39;00m \u001b[38;5;28;43mself\u001b[39;49m\u001b[38;5;241;43m.\u001b[39;49m\u001b[43mdot\u001b[49m\u001b[43m(\u001b[49m\u001b[43mother\u001b[49m\u001b[43m)\u001b[49m\n",
      "File \u001b[1;32mC:\\Program Files\\Python311\\Lib\\site-packages\\pandas\\core\\series.py:3222\u001b[0m, in \u001b[0;36mSeries.dot\u001b[1;34m(self, other)\u001b[0m\n\u001b[0;32m   3220\u001b[0m     lvals \u001b[38;5;241m=\u001b[39m \u001b[38;5;28mself\u001b[39m\u001b[38;5;241m.\u001b[39mvalues\n\u001b[0;32m   3221\u001b[0m     rvals \u001b[38;5;241m=\u001b[39m np\u001b[38;5;241m.\u001b[39masarray(other)\n\u001b[1;32m-> 3222\u001b[0m     \u001b[38;5;28;01mif\u001b[39;00m lvals\u001b[38;5;241m.\u001b[39mshape[\u001b[38;5;241m0\u001b[39m] \u001b[38;5;241m!=\u001b[39m \u001b[43mrvals\u001b[49m\u001b[38;5;241;43m.\u001b[39;49m\u001b[43mshape\u001b[49m\u001b[43m[\u001b[49m\u001b[38;5;241;43m0\u001b[39;49m\u001b[43m]\u001b[49m:\n\u001b[0;32m   3223\u001b[0m         \u001b[38;5;28;01mraise\u001b[39;00m \u001b[38;5;167;01mException\u001b[39;00m(\n\u001b[0;32m   3224\u001b[0m             \u001b[38;5;124mf\u001b[39m\u001b[38;5;124m\"\u001b[39m\u001b[38;5;124mDot product shape mismatch, \u001b[39m\u001b[38;5;132;01m{\u001b[39;00mlvals\u001b[38;5;241m.\u001b[39mshape\u001b[38;5;132;01m}\u001b[39;00m\u001b[38;5;124m vs \u001b[39m\u001b[38;5;132;01m{\u001b[39;00mrvals\u001b[38;5;241m.\u001b[39mshape\u001b[38;5;132;01m}\u001b[39;00m\u001b[38;5;124m\"\u001b[39m\n\u001b[0;32m   3225\u001b[0m         )\n\u001b[0;32m   3227\u001b[0m \u001b[38;5;28;01mif\u001b[39;00m \u001b[38;5;28misinstance\u001b[39m(other, ABCDataFrame):\n",
      "\u001b[1;31mIndexError\u001b[0m: tuple index out of range"
     ]
    }
   ],
   "source": [
    "returns_portfolio = expected_returns.T @ weights"
   ]
  },
  {
   "cell_type": "code",
   "execution_count": 23,
   "id": "67bbebf4-c358-4d82-92dc-10b026027575",
   "metadata": {},
   "outputs": [
    {
     "name": "stderr",
     "output_type": "stream",
     "text": [
      "[*********************100%%**********************]  4 of 4 completed\n"
     ]
    },
    {
     "name": "stdout",
     "output_type": "stream",
     "text": [
      "Optimal Weights (Tangency Portfolio):\n",
      "AAPL: 0.0352\n",
      "MSFT: 0.0222\n",
      "GOOGL: 0.3969\n",
      "AMZN: 0.5457\n",
      "\n",
      "Portfolio Return: 48.35%\n",
      "Portfolio Volatility: 20.43%\n",
      "Sharpe Ratio: 2.22\n"
     ]
    }
   ],
   "source": [
    "import numpy as np\n",
    "import pandas as pd\n",
    "import yfinance as yf\n",
    "\n",
    "# Download historical price data for the stocks\n",
    "tickers = ['AAPL', 'MSFT', 'GOOGL', 'AMZN']\n",
    "data = yf.download(tickers, start='2021-01-01', end='2022-01-01')['Adj Close']\n",
    "\n",
    "# Calculate daily returns and statistics\n",
    "returns = data.pct_change().dropna()\n",
    "expected_returns = returns.mean() * 250  # Annualized\n",
    "cov_matrix = returns.cov() * 250  # Annualized\n",
    "risk_free_rate = 0.03  # Assuming a 3% risk-free rate\n",
    "\n",
    "# Initialize lists to store portfolio returns, volatilities, and Sharpe ratios\n",
    "pfolio_returns = []\n",
    "pfolio_volatilities = []\n",
    "sharpe_ratios = []\n",
    "weights_list = []\n",
    "\n",
    "num_assets = len(tickers)\n",
    "num_portfolios = 1000\n",
    "\n",
    "# Monte Carlo simulation to generate random portfolios\n",
    "for i in range(num_portfolios):\n",
    "    weights = np.random.random(num_assets)\n",
    "    weights /= np.sum(weights)\n",
    "    portfolio_return = np.sum(weights * expected_returns)\n",
    "    portfolio_volatility = np.sqrt(np.dot(weights.T, np.dot(cov_matrix, weights)))\n",
    "    sharpe_ratio = (portfolio_return - risk_free_rate) / portfolio_volatility\n",
    "    \n",
    "    pfolio_returns.append(portfolio_return)\n",
    "    pfolio_volatilities.append(portfolio_volatility)\n",
    "    sharpe_ratios.append(sharpe_ratio)\n",
    "    weights_list.append(weights)\n",
    "\n",
    "# Convert lists to numpy arrays\n",
    "pfolio_returns = np.array(pfolio_returns)\n",
    "pfolio_volatilities = np.array(pfolio_volatilities)\n",
    "sharpe_ratios = np.array(sharpe_ratios)\n",
    "weights_list = np.array(weights_list)\n",
    "\n",
    "# Identify the portfolio with the highest Sharpe ratio\n",
    "max_sharpe_idx = sharpe_ratios.argmax()\n",
    "optimal_weights = weights_list[max_sharpe_idx]\n",
    "\n",
    "# Display the results\n",
    "print(\"Optimal Weights (Tangency Portfolio):\")\n",
    "for ticker, weight in zip(tickers, optimal_weights):\n",
    "    print(f\"{ticker}: {weight:.4f}\")\n",
    "\n",
    "print(f\"\\nPortfolio Return: {pfolio_returns[max_sharpe_idx]:.2%}\")\n",
    "print(f\"Portfolio Volatility: {pfolio_volatilities[max_sharpe_idx]:.2%}\")\n",
    "print(f\"Sharpe Ratio: {sharpe_ratios[max_sharpe_idx]:.2f}\")\n"
   ]
  },
  {
   "cell_type": "code",
   "execution_count": null,
   "id": "9367fe92-fdb4-4281-bd01-400ad1fafc1f",
   "metadata": {},
   "outputs": [],
   "source": []
  }
 ],
 "metadata": {
  "kernelspec": {
   "display_name": "Python 3 (ipykernel)",
   "language": "python",
   "name": "python3"
  },
  "language_info": {
   "codemirror_mode": {
    "name": "ipython",
    "version": 3
   },
   "file_extension": ".py",
   "mimetype": "text/x-python",
   "name": "python",
   "nbconvert_exporter": "python",
   "pygments_lexer": "ipython3",
   "version": "3.11.1"
  }
 },
 "nbformat": 4,
 "nbformat_minor": 5
}
